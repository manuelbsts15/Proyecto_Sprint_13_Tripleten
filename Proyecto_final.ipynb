{
 "cells": [
  {
   "cell_type": "markdown",
   "id": "b52488ab",
   "metadata": {},
   "source": [
    "# Presentacion en PDF\n",
    "https://docs.google.com/presentation/d/1xQefAFpYteCJ4ushbobLphBk7YXTeaMz/edit?usp=drive_link&ouid=101698133637703522752&rtpof=true&sd=true"
   ]
  },
  {
   "cell_type": "markdown",
   "id": "735ea3b8",
   "metadata": {},
   "source": [
    "# Aplicaciones móviles: segmentación de usuarios y usuarias en función del comportamiento (1)\n",
    "\n",
    "### Ejercicio\n",
    "\n",
    "Toma las acciones que los usuarios y las usuarias realizan en la aplicación para definir grupos que difieren en términos de métricas del producto (tasa de retención, tiempo dedicado a la aplicación, frecuencia de ocurrencia de eventos, conversión en el evento de destino, `contacts_show`).\n",
    "\n",
    "- Lleva a cabo el análisis exploratorio de datos\n",
    "- Segmenta a los usuarios y las usuarias en función de los eventos que completan\n",
    "- Prueba las hipótesis estadísticas\n",
    "    - Formula y prueba una hipótesis sobre la diferencia en la conversión en vistas de información de contacto entre quienes descargaron la aplicación de `bing` y quienes la descargaron de `google`.\n",
    "    - Formula una hipótesis estadística sobre los datos del dataset y pruébala.\n",
    "\n",
    "### Descripción de los datos\n",
    "\n",
    "Los datasets contienen datos sobre los eventos que ocurrieron en la aplicación móvil Trash to Treasure, en la que los usuarios y las usuarias publican anuncios para vender cosas que ya no necesitan.\n",
    "\n",
    "Los datos corresponden a quienes realizaron sus primeras acciones en la aplicación después del 7 de octubre de 2019.\n",
    "\n",
    "`mobile_dataset_us.csv` contiene las siguientes columnas:\n",
    "\n",
    "- `event.time`: cuando tuvo lugar el evento\n",
    "- `[event.name]\n",
    "- `[user.id]\n",
    "\n",
    "`mobile_sources_us.csv` contiene las siguientes columnas:\n",
    "\n",
    "- `userId`: ID de usuario/a\n",
    "- `source`: la fuente desde la cual el usuario o la usuaria descargó la aplicación\n",
    "\n",
    "Detalles del evento:\n",
    "\n",
    "- `advert_open`: abrir una publicación publicitaria\n",
    "- `photos_show`: ver fotos en el anuncio\n",
    "- `tips_show`: se mostraron anuncios recomendados al usuario o la usuaria\n",
    "- `tips_click`: el usuario o usuaria hizo clic en un anuncio recomendado\n",
    "- `contacts_show` y `show_contacts`: el usuario o la usuaria hizo clic en el botón \"mostrar número de teléfono\" en el anuncio\n",
    "- `contacts_call`: el usuario o la usuaria marcó el número del anuncio\n",
    "- `map`: el usuario o la usuaria abrió el mapa de los anuncios publicados\n",
    "- `search_1` - `search_7`: varios eventos relacionados con la búsqueda en el sitio web\n",
    "- `favorites_add`: el usuario o la usuaria agregó el anuncio a favoritos"
   ]
  },
  {
   "cell_type": "markdown",
   "id": "74354f2d",
   "metadata": {},
   "source": [
    "#### Importacion de librerias y lectura de tablas"
   ]
  },
  {
   "cell_type": "code",
   "execution_count": 1,
   "id": "13e6c005",
   "metadata": {},
   "outputs": [],
   "source": [
    "import pandas as pd\n",
    "from datetime import datetime\n",
    "from scipy import stats as st\n",
    "import matplotlib.pyplot as plt\n",
    "import seaborn as sns \n"
   ]
  },
  {
   "cell_type": "code",
   "execution_count": 2,
   "id": "669a20b7",
   "metadata": {},
   "outputs": [],
   "source": [
    "data = pd.read_csv('mobile_dataset_us.csv')\n",
    "source = pd.read_csv('mobile_sources_us.csv')"
   ]
  },
  {
   "cell_type": "code",
   "execution_count": 3,
   "id": "591f48df",
   "metadata": {
    "scrolled": true
   },
   "outputs": [
    {
     "data": {
      "text/html": [
       "<div>\n",
       "<style scoped>\n",
       "    .dataframe tbody tr th:only-of-type {\n",
       "        vertical-align: middle;\n",
       "    }\n",
       "\n",
       "    .dataframe tbody tr th {\n",
       "        vertical-align: top;\n",
       "    }\n",
       "\n",
       "    .dataframe thead th {\n",
       "        text-align: right;\n",
       "    }\n",
       "</style>\n",
       "<table border=\"1\" class=\"dataframe\">\n",
       "  <thead>\n",
       "    <tr style=\"text-align: right;\">\n",
       "      <th></th>\n",
       "      <th>event.time</th>\n",
       "      <th>event.name</th>\n",
       "      <th>user.id</th>\n",
       "    </tr>\n",
       "  </thead>\n",
       "  <tbody>\n",
       "    <tr>\n",
       "      <th>0</th>\n",
       "      <td>2019-10-07 00:00:00.431357</td>\n",
       "      <td>advert_open</td>\n",
       "      <td>020292ab-89bc-4156-9acf-68bc2783f894</td>\n",
       "    </tr>\n",
       "    <tr>\n",
       "      <th>1</th>\n",
       "      <td>2019-10-07 00:00:01.236320</td>\n",
       "      <td>tips_show</td>\n",
       "      <td>020292ab-89bc-4156-9acf-68bc2783f894</td>\n",
       "    </tr>\n",
       "    <tr>\n",
       "      <th>2</th>\n",
       "      <td>2019-10-07 00:00:02.245341</td>\n",
       "      <td>tips_show</td>\n",
       "      <td>cf7eda61-9349-469f-ac27-e5b6f5ec475c</td>\n",
       "    </tr>\n",
       "    <tr>\n",
       "      <th>3</th>\n",
       "      <td>2019-10-07 00:00:07.039334</td>\n",
       "      <td>tips_show</td>\n",
       "      <td>020292ab-89bc-4156-9acf-68bc2783f894</td>\n",
       "    </tr>\n",
       "    <tr>\n",
       "      <th>4</th>\n",
       "      <td>2019-10-07 00:00:56.319813</td>\n",
       "      <td>advert_open</td>\n",
       "      <td>cf7eda61-9349-469f-ac27-e5b6f5ec475c</td>\n",
       "    </tr>\n",
       "  </tbody>\n",
       "</table>\n",
       "</div>"
      ],
      "text/plain": [
       "                   event.time   event.name  \\\n",
       "0  2019-10-07 00:00:00.431357  advert_open   \n",
       "1  2019-10-07 00:00:01.236320    tips_show   \n",
       "2  2019-10-07 00:00:02.245341    tips_show   \n",
       "3  2019-10-07 00:00:07.039334    tips_show   \n",
       "4  2019-10-07 00:00:56.319813  advert_open   \n",
       "\n",
       "                                user.id  \n",
       "0  020292ab-89bc-4156-9acf-68bc2783f894  \n",
       "1  020292ab-89bc-4156-9acf-68bc2783f894  \n",
       "2  cf7eda61-9349-469f-ac27-e5b6f5ec475c  \n",
       "3  020292ab-89bc-4156-9acf-68bc2783f894  \n",
       "4  cf7eda61-9349-469f-ac27-e5b6f5ec475c  "
      ]
     },
     "execution_count": 3,
     "metadata": {},
     "output_type": "execute_result"
    }
   ],
   "source": [
    "# mostramos primera tabla\n",
    "data.head()"
   ]
  },
  {
   "cell_type": "code",
   "execution_count": 4,
   "id": "71ca6d2a",
   "metadata": {},
   "outputs": [
    {
     "data": {
      "text/plain": [
       "Index(['event_time', 'event_name', 'user_id'], dtype='object')"
      ]
     },
     "execution_count": 4,
     "metadata": {},
     "output_type": "execute_result"
    }
   ],
   "source": [
    "#renombramos columnas para mejor entendimiento\n",
    "data.columns = ['event_time', 'event_name','user_id']\n",
    "data.columns"
   ]
  },
  {
   "cell_type": "code",
   "execution_count": 5,
   "id": "b6215450",
   "metadata": {},
   "outputs": [
    {
     "name": "stdout",
     "output_type": "stream",
     "text": [
      "<class 'pandas.core.frame.DataFrame'>\n",
      "RangeIndex: 74197 entries, 0 to 74196\n",
      "Data columns (total 3 columns):\n",
      " #   Column      Non-Null Count  Dtype \n",
      "---  ------      --------------  ----- \n",
      " 0   event_time  74197 non-null  object\n",
      " 1   event_name  74197 non-null  object\n",
      " 2   user_id     74197 non-null  object\n",
      "dtypes: object(3)\n",
      "memory usage: 1.7+ MB\n"
     ]
    }
   ],
   "source": [
    "#informacion del dataset\n",
    "data.info()"
   ]
  },
  {
   "cell_type": "code",
   "execution_count": 6,
   "id": "4b6dfe66",
   "metadata": {},
   "outputs": [
    {
     "data": {
      "text/plain": [
       "event_time    0\n",
       "event_name    0\n",
       "user_id       0\n",
       "dtype: int64"
      ]
     },
     "execution_count": 6,
     "metadata": {},
     "output_type": "execute_result"
    }
   ],
   "source": [
    "# verificacion de valores ausentes\n",
    "data.isna().sum()"
   ]
  },
  {
   "cell_type": "code",
   "execution_count": 7,
   "id": "59aef90e",
   "metadata": {},
   "outputs": [
    {
     "data": {
      "text/plain": [
       "0"
      ]
     },
     "execution_count": 7,
     "metadata": {},
     "output_type": "execute_result"
    }
   ],
   "source": [
    "# verificaion de valores duplicados\n",
    "data.duplicated().sum()"
   ]
  },
  {
   "cell_type": "code",
   "execution_count": 8,
   "id": "f40c133a",
   "metadata": {
    "scrolled": true
   },
   "outputs": [
    {
     "data": {
      "text/html": [
       "<div>\n",
       "<style scoped>\n",
       "    .dataframe tbody tr th:only-of-type {\n",
       "        vertical-align: middle;\n",
       "    }\n",
       "\n",
       "    .dataframe tbody tr th {\n",
       "        vertical-align: top;\n",
       "    }\n",
       "\n",
       "    .dataframe thead th {\n",
       "        text-align: right;\n",
       "    }\n",
       "</style>\n",
       "<table border=\"1\" class=\"dataframe\">\n",
       "  <thead>\n",
       "    <tr style=\"text-align: right;\">\n",
       "      <th></th>\n",
       "      <th>userId</th>\n",
       "      <th>source</th>\n",
       "    </tr>\n",
       "  </thead>\n",
       "  <tbody>\n",
       "    <tr>\n",
       "      <th>0</th>\n",
       "      <td>020292ab-89bc-4156-9acf-68bc2783f894</td>\n",
       "      <td>other</td>\n",
       "    </tr>\n",
       "    <tr>\n",
       "      <th>1</th>\n",
       "      <td>cf7eda61-9349-469f-ac27-e5b6f5ec475c</td>\n",
       "      <td>bing</td>\n",
       "    </tr>\n",
       "    <tr>\n",
       "      <th>2</th>\n",
       "      <td>8c356c42-3ba9-4cb6-80b8-3f868d0192c3</td>\n",
       "      <td>bing</td>\n",
       "    </tr>\n",
       "    <tr>\n",
       "      <th>3</th>\n",
       "      <td>d9b06b47-0f36-419b-bbb0-3533e582a6cb</td>\n",
       "      <td>other</td>\n",
       "    </tr>\n",
       "    <tr>\n",
       "      <th>4</th>\n",
       "      <td>f32e1e2a-3027-4693-b793-b7b3ff274439</td>\n",
       "      <td>google</td>\n",
       "    </tr>\n",
       "  </tbody>\n",
       "</table>\n",
       "</div>"
      ],
      "text/plain": [
       "                                 userId  source\n",
       "0  020292ab-89bc-4156-9acf-68bc2783f894   other\n",
       "1  cf7eda61-9349-469f-ac27-e5b6f5ec475c    bing\n",
       "2  8c356c42-3ba9-4cb6-80b8-3f868d0192c3    bing\n",
       "3  d9b06b47-0f36-419b-bbb0-3533e582a6cb   other\n",
       "4  f32e1e2a-3027-4693-b793-b7b3ff274439  google"
      ]
     },
     "execution_count": 8,
     "metadata": {},
     "output_type": "execute_result"
    }
   ],
   "source": [
    "#mostramos segunda tabla\n",
    "source.head()"
   ]
  },
  {
   "cell_type": "code",
   "execution_count": 9,
   "id": "3976aa2c",
   "metadata": {},
   "outputs": [
    {
     "data": {
      "text/plain": [
       "Index(['user_id', 'source'], dtype='object')"
      ]
     },
     "execution_count": 9,
     "metadata": {},
     "output_type": "execute_result"
    }
   ],
   "source": [
    "# renombramos columnas\n",
    "source.columns=['user_id','source']\n",
    "source.columns"
   ]
  },
  {
   "cell_type": "code",
   "execution_count": 10,
   "id": "9fa45c08",
   "metadata": {},
   "outputs": [
    {
     "name": "stdout",
     "output_type": "stream",
     "text": [
      "<class 'pandas.core.frame.DataFrame'>\n",
      "RangeIndex: 4293 entries, 0 to 4292\n",
      "Data columns (total 2 columns):\n",
      " #   Column   Non-Null Count  Dtype \n",
      "---  ------   --------------  ----- \n",
      " 0   user_id  4293 non-null   object\n",
      " 1   source   4293 non-null   object\n",
      "dtypes: object(2)\n",
      "memory usage: 67.2+ KB\n"
     ]
    }
   ],
   "source": [
    "# informacion del dataset\n",
    "source.info()"
   ]
  },
  {
   "cell_type": "code",
   "execution_count": 11,
   "id": "b6736e95",
   "metadata": {},
   "outputs": [
    {
     "data": {
      "text/plain": [
       "user_id    0\n",
       "source     0\n",
       "dtype: int64"
      ]
     },
     "execution_count": 11,
     "metadata": {},
     "output_type": "execute_result"
    }
   ],
   "source": [
    "#verificacion de valores ausentes\n",
    "source.isna().sum()"
   ]
  },
  {
   "cell_type": "code",
   "execution_count": 12,
   "id": "a8e7bf92",
   "metadata": {},
   "outputs": [
    {
     "data": {
      "text/plain": [
       "0"
      ]
     },
     "execution_count": 12,
     "metadata": {},
     "output_type": "execute_result"
    }
   ],
   "source": [
    "#verificacion de duplicados\n",
    "source.duplicated().sum()"
   ]
  },
  {
   "cell_type": "markdown",
   "id": "93513cf6",
   "metadata": {},
   "source": [
    "#### Union de tablas"
   ]
  },
  {
   "cell_type": "code",
   "execution_count": 13,
   "id": "b6f7beac",
   "metadata": {
    "scrolled": true
   },
   "outputs": [
    {
     "data": {
      "text/html": [
       "<div>\n",
       "<style scoped>\n",
       "    .dataframe tbody tr th:only-of-type {\n",
       "        vertical-align: middle;\n",
       "    }\n",
       "\n",
       "    .dataframe tbody tr th {\n",
       "        vertical-align: top;\n",
       "    }\n",
       "\n",
       "    .dataframe thead th {\n",
       "        text-align: right;\n",
       "    }\n",
       "</style>\n",
       "<table border=\"1\" class=\"dataframe\">\n",
       "  <thead>\n",
       "    <tr style=\"text-align: right;\">\n",
       "      <th></th>\n",
       "      <th>event_time</th>\n",
       "      <th>event_name</th>\n",
       "      <th>user_id</th>\n",
       "      <th>source</th>\n",
       "    </tr>\n",
       "  </thead>\n",
       "  <tbody>\n",
       "    <tr>\n",
       "      <th>1103</th>\n",
       "      <td>2019-10-07 12:42:07.712387</td>\n",
       "      <td>tips_show</td>\n",
       "      <td>1a3361d1-2002-4389-a669-ecb06ea7a90a</td>\n",
       "      <td>bing</td>\n",
       "    </tr>\n",
       "    <tr>\n",
       "      <th>66149</th>\n",
       "      <td>2019-10-29 15:44:42.777447</td>\n",
       "      <td>tips_show</td>\n",
       "      <td>ded138fb-82c3-496b-a8f4-f576bee57b00</td>\n",
       "      <td>bing</td>\n",
       "    </tr>\n",
       "    <tr>\n",
       "      <th>23145</th>\n",
       "      <td>2019-10-13 16:43:39.190661</td>\n",
       "      <td>tips_show</td>\n",
       "      <td>be967f66-ad5d-47c4-bb4b-9127b4be2f33</td>\n",
       "      <td>bing</td>\n",
       "    </tr>\n",
       "    <tr>\n",
       "      <th>60723</th>\n",
       "      <td>2019-10-27 01:08:39.989284</td>\n",
       "      <td>advert_open</td>\n",
       "      <td>b84530e4-f692-4972-8129-ccabcbfb1985</td>\n",
       "      <td>google</td>\n",
       "    </tr>\n",
       "    <tr>\n",
       "      <th>29457</th>\n",
       "      <td>2019-10-16 15:33:02.986577</td>\n",
       "      <td>contacts_show</td>\n",
       "      <td>ca6c783d-8bf2-4f24-b8c0-e902932ce4f2</td>\n",
       "      <td>google</td>\n",
       "    </tr>\n",
       "  </tbody>\n",
       "</table>\n",
       "</div>"
      ],
      "text/plain": [
       "                       event_time     event_name  \\\n",
       "1103   2019-10-07 12:42:07.712387      tips_show   \n",
       "66149  2019-10-29 15:44:42.777447      tips_show   \n",
       "23145  2019-10-13 16:43:39.190661      tips_show   \n",
       "60723  2019-10-27 01:08:39.989284    advert_open   \n",
       "29457  2019-10-16 15:33:02.986577  contacts_show   \n",
       "\n",
       "                                    user_id  source  \n",
       "1103   1a3361d1-2002-4389-a669-ecb06ea7a90a    bing  \n",
       "66149  ded138fb-82c3-496b-a8f4-f576bee57b00    bing  \n",
       "23145  be967f66-ad5d-47c4-bb4b-9127b4be2f33    bing  \n",
       "60723  b84530e4-f692-4972-8129-ccabcbfb1985  google  \n",
       "29457  ca6c783d-8bf2-4f24-b8c0-e902932ce4f2  google  "
      ]
     },
     "execution_count": 13,
     "metadata": {},
     "output_type": "execute_result"
    }
   ],
   "source": [
    "data_new = data.merge(source, on='user_id')\n",
    "data_new.sample(5)"
   ]
  },
  {
   "cell_type": "code",
   "execution_count": 14,
   "id": "b0d5aac0",
   "metadata": {},
   "outputs": [],
   "source": [
    "data_new['event_time'] = pd.to_datetime(data_new['event_time'])"
   ]
  },
  {
   "cell_type": "code",
   "execution_count": 15,
   "id": "288639e9",
   "metadata": {},
   "outputs": [
    {
     "name": "stdout",
     "output_type": "stream",
     "text": [
      "<class 'pandas.core.frame.DataFrame'>\n",
      "RangeIndex: 74197 entries, 0 to 74196\n",
      "Data columns (total 4 columns):\n",
      " #   Column      Non-Null Count  Dtype         \n",
      "---  ------      --------------  -----         \n",
      " 0   event_time  74197 non-null  datetime64[ns]\n",
      " 1   event_name  74197 non-null  object        \n",
      " 2   user_id     74197 non-null  object        \n",
      " 3   source      74197 non-null  object        \n",
      "dtypes: datetime64[ns](1), object(3)\n",
      "memory usage: 2.3+ MB\n"
     ]
    }
   ],
   "source": [
    "data_new.info()"
   ]
  },
  {
   "cell_type": "code",
   "execution_count": 16,
   "id": "bf418a90",
   "metadata": {},
   "outputs": [
    {
     "data": {
      "text/html": [
       "<div>\n",
       "<style scoped>\n",
       "    .dataframe tbody tr th:only-of-type {\n",
       "        vertical-align: middle;\n",
       "    }\n",
       "\n",
       "    .dataframe tbody tr th {\n",
       "        vertical-align: top;\n",
       "    }\n",
       "\n",
       "    .dataframe thead th {\n",
       "        text-align: right;\n",
       "    }\n",
       "</style>\n",
       "<table border=\"1\" class=\"dataframe\">\n",
       "  <thead>\n",
       "    <tr style=\"text-align: right;\">\n",
       "      <th></th>\n",
       "      <th>event_time</th>\n",
       "      <th>event_name</th>\n",
       "      <th>user_id</th>\n",
       "      <th>source</th>\n",
       "      <th>session_year</th>\n",
       "      <th>session_month</th>\n",
       "      <th>session_day</th>\n",
       "      <th>session_week</th>\n",
       "    </tr>\n",
       "  </thead>\n",
       "  <tbody>\n",
       "    <tr>\n",
       "      <th>0</th>\n",
       "      <td>2019-10-07 00:00:00.431357</td>\n",
       "      <td>advert_open</td>\n",
       "      <td>020292ab-89bc-4156-9acf-68bc2783f894</td>\n",
       "      <td>other</td>\n",
       "      <td>2019</td>\n",
       "      <td>10</td>\n",
       "      <td>7</td>\n",
       "      <td>41</td>\n",
       "    </tr>\n",
       "    <tr>\n",
       "      <th>1</th>\n",
       "      <td>2019-10-07 00:00:01.236320</td>\n",
       "      <td>tips_show</td>\n",
       "      <td>020292ab-89bc-4156-9acf-68bc2783f894</td>\n",
       "      <td>other</td>\n",
       "      <td>2019</td>\n",
       "      <td>10</td>\n",
       "      <td>7</td>\n",
       "      <td>41</td>\n",
       "    </tr>\n",
       "    <tr>\n",
       "      <th>2</th>\n",
       "      <td>2019-10-07 00:00:07.039334</td>\n",
       "      <td>tips_show</td>\n",
       "      <td>020292ab-89bc-4156-9acf-68bc2783f894</td>\n",
       "      <td>other</td>\n",
       "      <td>2019</td>\n",
       "      <td>10</td>\n",
       "      <td>7</td>\n",
       "      <td>41</td>\n",
       "    </tr>\n",
       "    <tr>\n",
       "      <th>3</th>\n",
       "      <td>2019-10-07 00:01:27.770232</td>\n",
       "      <td>advert_open</td>\n",
       "      <td>020292ab-89bc-4156-9acf-68bc2783f894</td>\n",
       "      <td>other</td>\n",
       "      <td>2019</td>\n",
       "      <td>10</td>\n",
       "      <td>7</td>\n",
       "      <td>41</td>\n",
       "    </tr>\n",
       "    <tr>\n",
       "      <th>4</th>\n",
       "      <td>2019-10-07 00:01:34.804591</td>\n",
       "      <td>tips_show</td>\n",
       "      <td>020292ab-89bc-4156-9acf-68bc2783f894</td>\n",
       "      <td>other</td>\n",
       "      <td>2019</td>\n",
       "      <td>10</td>\n",
       "      <td>7</td>\n",
       "      <td>41</td>\n",
       "    </tr>\n",
       "  </tbody>\n",
       "</table>\n",
       "</div>"
      ],
      "text/plain": [
       "                  event_time   event_name  \\\n",
       "0 2019-10-07 00:00:00.431357  advert_open   \n",
       "1 2019-10-07 00:00:01.236320    tips_show   \n",
       "2 2019-10-07 00:00:07.039334    tips_show   \n",
       "3 2019-10-07 00:01:27.770232  advert_open   \n",
       "4 2019-10-07 00:01:34.804591    tips_show   \n",
       "\n",
       "                                user_id source  session_year  session_month  \\\n",
       "0  020292ab-89bc-4156-9acf-68bc2783f894  other          2019             10   \n",
       "1  020292ab-89bc-4156-9acf-68bc2783f894  other          2019             10   \n",
       "2  020292ab-89bc-4156-9acf-68bc2783f894  other          2019             10   \n",
       "3  020292ab-89bc-4156-9acf-68bc2783f894  other          2019             10   \n",
       "4  020292ab-89bc-4156-9acf-68bc2783f894  other          2019             10   \n",
       "\n",
       "   session_day  session_week  \n",
       "0            7            41  \n",
       "1            7            41  \n",
       "2            7            41  \n",
       "3            7            41  \n",
       "4            7            41  "
      ]
     },
     "execution_count": 16,
     "metadata": {},
     "output_type": "execute_result"
    }
   ],
   "source": [
    "data_new['session_year'] = data_new['event_time'].dt.year\n",
    "data_new['session_month'] = data_new['event_time'].dt.month\n",
    "data_new['session_day'] = data_new['event_time'].dt.day\n",
    "data_new['session_week'] = data_new['event_time'].dt.isocalendar().week\n",
    "data_new.head()"
   ]
  },
  {
   "cell_type": "markdown",
   "id": "8dbe147d",
   "metadata": {},
   "source": [
    "#### Una vez que realizamos la descomposicion de los datos podemos contestar interrogantes que nos lleven a realizar una buena segmentacion de usuarios y usuarias asi como tambein poner a pruebas las hipotesis formuladas, entre las preguntas tenemos:\n",
    "1 Cuál es la distribución de eventos por fuente(source)?\n",
    "\n",
    "2 Cuál es la frecuencia de eventos por tipo (event_name)?\n",
    "\n",
    "3 Cantidad de usuarios que prefieren la fuente bing, google y otros.\n",
    "\n",
    "4 Cantidad de usuarios que visitan las fuentes por dia.\n",
    "\n",
    "5 cantidad de usuarios acceden a un evento en especifico.\n",
    "\n",
    "#### Hipotesis:\n",
    "\n",
    "Hipótesis sobre la diferencia en la conversión en vistas de información de contacto entre usuarios de Bing y Google:\n",
    "\n",
    "Hipótesis nula (H0): No hay diferencia en la conversión en vistas de información de contacto entre los usuarios que descargaron la aplicación de Bing y aquellos que la descargaron de Google.\n",
    "\n",
    "Hipótesis alternativa (H1): Existe una diferencia en la conversión en vistas de información de contacto entre los usuarios de Bing y los de Google."
   ]
  },
  {
   "cell_type": "markdown",
   "id": "c56d0496",
   "metadata": {},
   "source": [
    "### Con el analisis exploratorio realizado anteriormente podemos proceder a probar las hipotesis planteada."
   ]
  },
  {
   "cell_type": "markdown",
   "id": "835971a7",
   "metadata": {},
   "source": [
    "### 1 Cuál es la distribución de eventos por fuente(source)?"
   ]
  },
  {
   "cell_type": "code",
   "execution_count": 17,
   "id": "8a82aef5",
   "metadata": {
    "scrolled": false
   },
   "outputs": [
    {
     "data": {
      "text/html": [
       "<div>\n",
       "<style scoped>\n",
       "    .dataframe tbody tr th:only-of-type {\n",
       "        vertical-align: middle;\n",
       "    }\n",
       "\n",
       "    .dataframe tbody tr th {\n",
       "        vertical-align: top;\n",
       "    }\n",
       "\n",
       "    .dataframe thead th {\n",
       "        text-align: right;\n",
       "    }\n",
       "</style>\n",
       "<table border=\"1\" class=\"dataframe\">\n",
       "  <thead>\n",
       "    <tr style=\"text-align: right;\">\n",
       "      <th></th>\n",
       "      <th>count</th>\n",
       "    </tr>\n",
       "    <tr>\n",
       "      <th>source</th>\n",
       "      <th></th>\n",
       "    </tr>\n",
       "  </thead>\n",
       "  <tbody>\n",
       "    <tr>\n",
       "      <th>bing</th>\n",
       "      <td>34286</td>\n",
       "    </tr>\n",
       "    <tr>\n",
       "      <th>google</th>\n",
       "      <td>20445</td>\n",
       "    </tr>\n",
       "    <tr>\n",
       "      <th>other</th>\n",
       "      <td>19466</td>\n",
       "    </tr>\n",
       "  </tbody>\n",
       "</table>\n",
       "</div>"
      ],
      "text/plain": [
       "        count\n",
       "source       \n",
       "bing    34286\n",
       "google  20445\n",
       "other   19466"
      ]
     },
     "metadata": {},
     "output_type": "display_data"
    },
    {
     "data": {
      "image/png": "[encoded data removed]",
      "text/plain": [
       "<Figure size 1000x500 with 1 Axes>"
      ]
     },
     "metadata": {},
     "output_type": "display_data"
    }
   ],
   "source": [
    "event_source = pd.DataFrame(data_new['source'].value_counts())\n",
    "display(event_source)\n",
    "event_source.plot(kind='bar',\n",
    "               title='Eventos por fuente',\n",
    "               xlabel='Fuentes',\n",
    "               ylabel='Eventos',\n",
    "               figsize=[10,5],\n",
    "                  rot = 0\n",
    "               )\n",
    "plt.show()"
   ]
  },
  {
   "cell_type": "markdown",
   "id": "107b0c74",
   "metadata": {},
   "source": [
    "**En el diagrama presentado podemos ver que la fuente con mayor distribucion por eventos es 'bing'**"
   ]
  },
  {
   "cell_type": "markdown",
   "id": "be80e380",
   "metadata": {},
   "source": [
    "### 2 Cuál es la frecuencia de eventos por tipo (event_name)?"
   ]
  },
  {
   "cell_type": "code",
   "execution_count": 18,
   "id": "59e5adb2",
   "metadata": {},
   "outputs": [
    {
     "data": {
      "text/html": [
       "<div>\n",
       "<style scoped>\n",
       "    .dataframe tbody tr th:only-of-type {\n",
       "        vertical-align: middle;\n",
       "    }\n",
       "\n",
       "    .dataframe tbody tr th {\n",
       "        vertical-align: top;\n",
       "    }\n",
       "\n",
       "    .dataframe thead th {\n",
       "        text-align: right;\n",
       "    }\n",
       "</style>\n",
       "<table border=\"1\" class=\"dataframe\">\n",
       "  <thead>\n",
       "    <tr style=\"text-align: right;\">\n",
       "      <th></th>\n",
       "      <th>count</th>\n",
       "    </tr>\n",
       "    <tr>\n",
       "      <th>event_name</th>\n",
       "      <th></th>\n",
       "    </tr>\n",
       "  </thead>\n",
       "  <tbody>\n",
       "    <tr>\n",
       "      <th>tips_show</th>\n",
       "      <td>40055</td>\n",
       "    </tr>\n",
       "    <tr>\n",
       "      <th>photos_show</th>\n",
       "      <td>10012</td>\n",
       "    </tr>\n",
       "    <tr>\n",
       "      <th>advert_open</th>\n",
       "      <td>6164</td>\n",
       "    </tr>\n",
       "    <tr>\n",
       "      <th>contacts_show</th>\n",
       "      <td>4450</td>\n",
       "    </tr>\n",
       "    <tr>\n",
       "      <th>map</th>\n",
       "      <td>3881</td>\n",
       "    </tr>\n",
       "    <tr>\n",
       "      <th>search_1</th>\n",
       "      <td>3506</td>\n",
       "    </tr>\n",
       "    <tr>\n",
       "      <th>favorites_add</th>\n",
       "      <td>1417</td>\n",
       "    </tr>\n",
       "    <tr>\n",
       "      <th>search_5</th>\n",
       "      <td>1049</td>\n",
       "    </tr>\n",
       "    <tr>\n",
       "      <th>tips_click</th>\n",
       "      <td>814</td>\n",
       "    </tr>\n",
       "    <tr>\n",
       "      <th>search_4</th>\n",
       "      <td>701</td>\n",
       "    </tr>\n",
       "    <tr>\n",
       "      <th>contacts_call</th>\n",
       "      <td>541</td>\n",
       "    </tr>\n",
       "    <tr>\n",
       "      <th>search_3</th>\n",
       "      <td>522</td>\n",
       "    </tr>\n",
       "    <tr>\n",
       "      <th>search_6</th>\n",
       "      <td>460</td>\n",
       "    </tr>\n",
       "    <tr>\n",
       "      <th>search_2</th>\n",
       "      <td>324</td>\n",
       "    </tr>\n",
       "    <tr>\n",
       "      <th>search_7</th>\n",
       "      <td>222</td>\n",
       "    </tr>\n",
       "    <tr>\n",
       "      <th>show_contacts</th>\n",
       "      <td>79</td>\n",
       "    </tr>\n",
       "  </tbody>\n",
       "</table>\n",
       "</div>"
      ],
      "text/plain": [
       "               count\n",
       "event_name          \n",
       "tips_show      40055\n",
       "photos_show    10012\n",
       "advert_open     6164\n",
       "contacts_show   4450\n",
       "map             3881\n",
       "search_1        3506\n",
       "favorites_add   1417\n",
       "search_5        1049\n",
       "tips_click       814\n",
       "search_4         701\n",
       "contacts_call    541\n",
       "search_3         522\n",
       "search_6         460\n",
       "search_2         324\n",
       "search_7         222\n",
       "show_contacts     79"
      ]
     },
     "metadata": {},
     "output_type": "display_data"
    },
    {
     "data": {
      "image/png": "[encoded data removed]",
      "text/plain": [
       "<Figure size 1000x500 with 1 Axes>"
      ]
     },
     "metadata": {},
     "output_type": "display_data"
    }
   ],
   "source": [
    "event_freq = pd.DataFrame(data_new['event_name'].value_counts())\n",
    "display(event_freq)\n",
    "event_freq.plot(kind='bar',\n",
    "               title='Fbrecuencia de Eventos por fuente',\n",
    "               xlabel='Eventos',\n",
    "               ylabel='Frecuencia',\n",
    "               figsize=[10,5],\n",
    "                rot=60\n",
    "             )\n",
    "plt.show()"
   ]
  },
  {
   "cell_type": "markdown",
   "id": "6d501737",
   "metadata": {},
   "source": [
    "**En el grafico anterior podemos observamos que el evento con mayor popularidad que usan los usuarios es 'tips_show', estando 4 veces por encima del valor del evento subsiguiente que es 'photos_show'**"
   ]
  },
  {
   "cell_type": "markdown",
   "id": "beb5012b",
   "metadata": {},
   "source": [
    "### 3 Cantidad de usuarios que prefieren la fuente bing, google y otros.\n"
   ]
  },
  {
   "cell_type": "code",
   "execution_count": 19,
   "id": "93f88832",
   "metadata": {},
   "outputs": [
    {
     "data": {
      "text/html": [
       "<div>\n",
       "<style scoped>\n",
       "    .dataframe tbody tr th:only-of-type {\n",
       "        vertical-align: middle;\n",
       "    }\n",
       "\n",
       "    .dataframe tbody tr th {\n",
       "        vertical-align: top;\n",
       "    }\n",
       "\n",
       "    .dataframe thead th {\n",
       "        text-align: right;\n",
       "    }\n",
       "</style>\n",
       "<table border=\"1\" class=\"dataframe\">\n",
       "  <thead>\n",
       "    <tr style=\"text-align: right;\">\n",
       "      <th></th>\n",
       "      <th>user_id</th>\n",
       "    </tr>\n",
       "    <tr>\n",
       "      <th>source</th>\n",
       "      <th></th>\n",
       "    </tr>\n",
       "  </thead>\n",
       "  <tbody>\n",
       "    <tr>\n",
       "      <th>bing</th>\n",
       "      <td>1934</td>\n",
       "    </tr>\n",
       "    <tr>\n",
       "      <th>google</th>\n",
       "      <td>1129</td>\n",
       "    </tr>\n",
       "    <tr>\n",
       "      <th>other</th>\n",
       "      <td>1230</td>\n",
       "    </tr>\n",
       "  </tbody>\n",
       "</table>\n",
       "</div>"
      ],
      "text/plain": [
       "        user_id\n",
       "source         \n",
       "bing       1934\n",
       "google     1129\n",
       "other      1230"
      ]
     },
     "metadata": {},
     "output_type": "display_data"
    },
    {
     "name": "stdout",
     "output_type": "stream",
     "text": [
      "Cantidad total de usuarios unicos: 4293\n"
     ]
    },
    {
     "data": {
      "image/png": "[encoded data removed]",
      "text/plain": [
       "<Figure size 1000x500 with 1 Axes>"
      ]
     },
     "metadata": {},
     "output_type": "display_data"
    }
   ],
   "source": [
    "users_source = data_new.groupby('source')['user_id'].nunique()\n",
    "users_source = pd.DataFrame(users_source)\n",
    "display(users_source)\n",
    "print('Cantidad total de usuarios unicos:',data_new['user_id'].nunique())\n",
    "users_source.plot(kind='bar',\n",
    "               title='Usuarios unicos por fuente',\n",
    "               xlabel='Fuente',\n",
    "               ylabel='Eventos',\n",
    "               figsize=[10,5],\n",
    "                  rot = 0\n",
    "               )\n",
    "plt.show()"
   ]
  },
  {
   "cell_type": "markdown",
   "id": "fc6984df",
   "metadata": {},
   "source": [
    "**En este grafico podemos ver que la fuente con mas usuarios es 'bing', mientras que 'google' esta por debajo de otras fuentes preferidas por los usuarios.**"
   ]
  },
  {
   "cell_type": "markdown",
   "id": "a17a3034",
   "metadata": {},
   "source": [
    "### 4 Cantidad de usuarios que visitan las fuentes por dia."
   ]
  },
  {
   "cell_type": "code",
   "execution_count": 20,
   "id": "1be12a6f",
   "metadata": {},
   "outputs": [
    {
     "data": {
      "text/html": [
       "<div>\n",
       "<style scoped>\n",
       "    .dataframe tbody tr th:only-of-type {\n",
       "        vertical-align: middle;\n",
       "    }\n",
       "\n",
       "    .dataframe tbody tr th {\n",
       "        vertical-align: top;\n",
       "    }\n",
       "\n",
       "    .dataframe thead th {\n",
       "        text-align: right;\n",
       "    }\n",
       "</style>\n",
       "<table border=\"1\" class=\"dataframe\">\n",
       "  <thead>\n",
       "    <tr style=\"text-align: right;\">\n",
       "      <th></th>\n",
       "      <th></th>\n",
       "      <th></th>\n",
       "      <th></th>\n",
       "      <th>user_id</th>\n",
       "    </tr>\n",
       "    <tr>\n",
       "      <th>session_day</th>\n",
       "      <th>session_month</th>\n",
       "      <th>session_year</th>\n",
       "      <th>source</th>\n",
       "      <th></th>\n",
       "    </tr>\n",
       "  </thead>\n",
       "  <tbody>\n",
       "    <tr>\n",
       "      <th>28</th>\n",
       "      <th>10</th>\n",
       "      <th>2019</th>\n",
       "      <th>bing</th>\n",
       "      <td>157</td>\n",
       "    </tr>\n",
       "    <tr>\n",
       "      <th>24</th>\n",
       "      <th>10</th>\n",
       "      <th>2019</th>\n",
       "      <th>bing</th>\n",
       "      <td>151</td>\n",
       "    </tr>\n",
       "    <tr>\n",
       "      <th>23</th>\n",
       "      <th>10</th>\n",
       "      <th>2019</th>\n",
       "      <th>bing</th>\n",
       "      <td>150</td>\n",
       "    </tr>\n",
       "    <tr>\n",
       "      <th>15</th>\n",
       "      <th>10</th>\n",
       "      <th>2019</th>\n",
       "      <th>bing</th>\n",
       "      <td>143</td>\n",
       "    </tr>\n",
       "    <tr>\n",
       "      <th>21</th>\n",
       "      <th>10</th>\n",
       "      <th>2019</th>\n",
       "      <th>bing</th>\n",
       "      <td>143</td>\n",
       "    </tr>\n",
       "    <tr>\n",
       "      <th>...</th>\n",
       "      <th>...</th>\n",
       "      <th>...</th>\n",
       "      <th>...</th>\n",
       "      <td>...</td>\n",
       "    </tr>\n",
       "    <tr>\n",
       "      <th>13</th>\n",
       "      <th>10</th>\n",
       "      <th>2019</th>\n",
       "      <th>google</th>\n",
       "      <td>49</td>\n",
       "    </tr>\n",
       "    <tr>\n",
       "      <th>12</th>\n",
       "      <th>10</th>\n",
       "      <th>2019</th>\n",
       "      <th>other</th>\n",
       "      <td>48</td>\n",
       "    </tr>\n",
       "    <tr>\n",
       "      <th>10</th>\n",
       "      <th>10</th>\n",
       "      <th>2019</th>\n",
       "      <th>google</th>\n",
       "      <td>48</td>\n",
       "    </tr>\n",
       "    <tr>\n",
       "      <th>11</th>\n",
       "      <th>10</th>\n",
       "      <th>2019</th>\n",
       "      <th>other</th>\n",
       "      <td>47</td>\n",
       "    </tr>\n",
       "    <tr>\n",
       "      <th>12</th>\n",
       "      <th>10</th>\n",
       "      <th>2019</th>\n",
       "      <th>google</th>\n",
       "      <td>44</td>\n",
       "    </tr>\n",
       "  </tbody>\n",
       "</table>\n",
       "<p>84 rows × 1 columns</p>\n",
       "</div>"
      ],
      "text/plain": [
       "                                               user_id\n",
       "session_day session_month session_year source         \n",
       "28          10            2019         bing        157\n",
       "24          10            2019         bing        151\n",
       "23          10            2019         bing        150\n",
       "15          10            2019         bing        143\n",
       "21          10            2019         bing        143\n",
       "...                                                ...\n",
       "13          10            2019         google       49\n",
       "12          10            2019         other        48\n",
       "10          10            2019         google       48\n",
       "11          10            2019         other        47\n",
       "12          10            2019         google       44\n",
       "\n",
       "[84 rows x 1 columns]"
      ]
     },
     "execution_count": 20,
     "metadata": {},
     "output_type": "execute_result"
    }
   ],
   "source": [
    "users_day = data_new.groupby(['session_day', 'session_month', 'session_year', 'source'])[['user_id']].nunique()\n",
    "users_day.sort_values('user_id',ascending=False)"
   ]
  },
  {
   "cell_type": "markdown",
   "id": "ffb95855",
   "metadata": {},
   "source": [
    "**En la tabla mostrada podemos ver que los dias en que hubo mayor cantidad de visitas fue 28, 24, y 23 de octubre de 2019 con 157,151 y 150 usuarios y usuarios respectivamente.**"
   ]
  },
  {
   "cell_type": "markdown",
   "id": "1c59655d",
   "metadata": {},
   "source": [
    "### 5 cantidad de usuarios acceden a un evento en especifico."
   ]
  },
  {
   "cell_type": "code",
   "execution_count": 21,
   "id": "b5a81b2d",
   "metadata": {
    "scrolled": true
   },
   "outputs": [
    {
     "name": "stdout",
     "output_type": "stream",
     "text": [
      "Para el evento \"map\" la cantidad de usuarios que acceden al evento: 1456\n"
     ]
    }
   ],
   "source": [
    "event_especifico = data_new[data_new['event_name']== 'map']['user_id'].nunique()\n",
    "print('Para el evento \"map\" la cantidad de usuarios que acceden al evento:', event_especifico)\n"
   ]
  },
  {
   "cell_type": "markdown",
   "id": "453597ee",
   "metadata": {},
   "source": [
    "# Hipotesis:\n",
    "Hipótesis sobre la diferencia en la conversión en vistas de información de contacto entre usuarios de Bing y Google:\n",
    "\n",
    "Hipótesis nula (H0): No hay diferencia en la conversión en vistas de información de contacto entre los usuarios que descargaron la aplicación de Bing y aquellos que la descargaron de Google.\n",
    "\n",
    "Hipótesis alternativa (H1): Existe una diferencia en la conversión en vistas de información de contacto entre los usuarios de Bing y los de Google."
   ]
  },
  {
   "cell_type": "code",
   "execution_count": 22,
   "id": "e7e25a1d",
   "metadata": {},
   "outputs": [
    {
     "data": {
      "text/plain": [
       "user_id\n",
       "cb36854f-570a-41f4-baa8-36680b396370    478\n",
       "e13f9f32-7ae3-4204-8d60-898db040bcfc    465\n",
       "9ce63488-758a-481a-bcb5-a02b467e1d84    407\n",
       "21230dd9-2f7f-4b77-a436-43d4d10388e0    400\n",
       "c140f88a-c544-4ce6-a6bd-578a1a0d1b18    288\n",
       "Name: count, dtype: int64"
      ]
     },
     "metadata": {},
     "output_type": "display_data"
    },
    {
     "data": {
      "text/plain": [
       "user_id\n",
       "be1449f6-ca45-4f94-93a7-ea4b079b8f0f    397\n",
       "e38cb669-7335-4d56-9de5-c8d5d2f13fd3    362\n",
       "abdcbe3c-221b-4f59-afd9-bf9ca78f7e4c    356\n",
       "320cab3c-e823-4dff-8c01-c4253764640a    353\n",
       "28fccdf4-7b9e-42f5-bc73-439a265f20e9    308\n",
       "Name: count, dtype: int64"
      ]
     },
     "metadata": {},
     "output_type": "display_data"
    },
    {
     "name": "stdout",
     "output_type": "stream",
     "text": [
      "valor p:  0.7478451633151909\n",
      "No podemos rechazar la hipótesis nula\n"
     ]
    }
   ],
   "source": [
    "event_bing = data_new[data_new['source'] == 'bing']\n",
    "event_bing = event_bing.loc[:,'user_id'].value_counts()\n",
    "display(event_bing.head())\n",
    "\n",
    "event_google = data_new[data_new['source'] == 'google']\n",
    "event_google = event_google.loc[:,'user_id'].value_counts()\n",
    "display(event_google.head())\n",
    "alpha = 0.05\n",
    "results = st.ttest_ind(event_bing, event_google, equal_var = False)\n",
    "\n",
    "print('valor p: ', results.pvalue) # extraer el valor p\n",
    "\n",
    "if results.pvalue < alpha:         # comparar el valor p con el umbral\n",
    "     print(\"Rechazamos la hipótesis nula\")\n",
    "else:\n",
    "     print(\"No podemos rechazar la hipótesis nula\")"
   ]
  },
  {
   "cell_type": "markdown",
   "id": "3647d3e7",
   "metadata": {},
   "source": [
    "**No poedmos rechazar la hipotesis nula ya que no existe diferencia en la conversión en vistas de información de contacto entre los usuarios que descargaron la aplicación de Bing y aquellos que la descargaron de Google.**"
   ]
  },
  {
   "cell_type": "markdown",
   "id": "1c18ce87",
   "metadata": {},
   "source": [
    "# Conclusion"
   ]
  },
  {
   "cell_type": "markdown",
   "id": "f22fb3a7",
   "metadata": {},
   "source": [
    "**Con el analisis realizado podemos concluir que la mayor cantidad de usuarios de aplicaiones mobiles prefieren usar como fuente principal la plataforma de busqueda 'bing', tambien pudimos definir los eventos mas populares ejecutados por los usuarios siendo 'tips_show', 'photos_show' y 'advert_open' las mas frecuentes. Con los datos obtenidos durante el analisis tambien podemos decir que para la conversion de vistas de informacion de contaco entre los usuarios que prefieren 'bing' y los que descargaron 'google' no existe deiferencia significativa, por lo tanto no podemos rechazar la hipotesis nula.**"
   ]
  },
  {
   "cell_type": "code",
   "execution_count": null,
   "id": "d1b07aa7",
   "metadata": {},
   "outputs": [],
   "source": []
  }
 ],
 "metadata": {
  "kernelspec": {
   "display_name": "Python 3 (ipykernel)",
   "language": "python",
   "name": "python3"
  },
  "language_info": {
   "codemirror_mode": {
    "name": "ipython",
    "version": 3
   },
   "file_extension": ".py",
   "mimetype": "text/x-python",
   "name": "python",
   "nbconvert_exporter": "python",
   "pygments_lexer": "ipython3",
   "version": "3.11.5"
  }
 },
 "nbformat": 4,
 "nbformat_minor": 5
}
