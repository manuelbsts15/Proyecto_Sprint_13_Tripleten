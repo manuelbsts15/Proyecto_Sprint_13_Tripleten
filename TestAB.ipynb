{
 "cells": [
  {
   "cell_type": "code",
   "execution_count": null,
   "id": "6648b246",
   "metadata": {},
   "outputs": [],
   "source": [
    "import pandas as pd"
   ]
  },
  {
   "cell_type": "code",
   "execution_count": null,
   "id": "1d4ad099",
   "metadata": {},
   "outputs": [],
   "source": [
    "data1 = pd.read_csv('/datasets/ab_project_marketing_events_us.csv')\n",
    "data2 = pd.read_csv('/datasets/final_ab_events_upd_us.csv')\n",
    "data3 = pd.read_csv('/datasets/final_ab_new_users_upd_us.csv')\n",
    "data4 = pd.read_csv('/datasets/final_ab_participants_upd_us.csv')"
   ]
  },
  {
   "cell_type": "code",
   "execution_count": null,
   "id": "539f225d",
   "metadata": {},
   "outputs": [],
   "source": [
    "data1"
   ]
  }
 ],
 "metadata": {
  "kernelspec": {
   "display_name": "Python 3 (ipykernel)",
   "language": "python",
   "name": "python3"
  },
  "language_info": {
   "codemirror_mode": {
    "name": "ipython",
    "version": 3
   },
   "file_extension": ".py",
   "mimetype": "text/x-python",
   "name": "python",
   "nbconvert_exporter": "python",
   "pygments_lexer": "ipython3",
   "version": "3.11.5"
  }
 },
 "nbformat": 4,
 "nbformat_minor": 5
}
